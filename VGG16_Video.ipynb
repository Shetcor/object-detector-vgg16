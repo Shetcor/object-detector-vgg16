{
  "nbformat": 4,
  "nbformat_minor": 0,
  "metadata": {
    "colab": {
      "name": "VGG16 Video.ipynb",
      "provenance": [],
      "collapsed_sections": []
    },
    "kernelspec": {
      "name": "python3",
      "display_name": "Python 3"
    },
    "language_info": {
      "name": "python"
    }
  },
  "cells": [
    {
      "cell_type": "markdown",
      "metadata": {
        "id": "dL9JEUy4yOO3"
      },
      "source": [
        "# **R181600B - Sheunesu C Tazvivinga**\n",
        "# **R181558W - Tafadzwa N Yemeke**"
      ]
    },
    {
      "cell_type": "code",
      "metadata": {
        "colab": {
          "base_uri": "https://localhost:8080/"
        },
        "id": "Guq-7UyfscQE",
        "outputId": "29254772-154d-425f-8631-c6c8e337f938"
      },
      "source": [
        "from google.colab import drive \n",
        "drive.mount('/content/drive')"
      ],
      "execution_count": 2,
      "outputs": [
        {
          "output_type": "stream",
          "text": [
            "Drive already mounted at /content/drive; to attempt to forcibly remount, call drive.mount(\"/content/drive\", force_remount=True).\n"
          ],
          "name": "stdout"
        }
      ]
    },
    {
      "cell_type": "code",
      "metadata": {
        "id": "IFqnfuyCsh2h"
      },
      "source": [
        "import cv2\n",
        "import os\n",
        "import sys \n",
        "import numpy as np\n",
        "import matplotlib.pyplot as plt\n",
        "%matplotlib inline\n",
        "from keras.preprocessing import image\n",
        "from skimage.transform import resize\n",
        "import tensorflow as tf\n",
        "from keras.layers import Dense, Activation, Dropout, Bidirectional\n",
        "from keras.layers.recurrent import LSTM\n",
        "from keras.models import Sequential\n",
        "from keras.optimizers import SGD\n",
        "from keras import backend as K\n",
        "from keras.utils import np_utils\n",
        "from sklearn.model_selection import train_test_split\n",
        "from keras.callbacks import ModelCheckpoint\n",
        "from keras.layers import Conv2D, Activation, MaxPooling2D, Dropout, Flatten, Dense,InputLayer\n",
        "from keras.utils.vis_utils import plot_model\n",
        "from keras.applications.vgg16 import preprocess_input\n",
        "from keras.preprocessing.image import img_to_array"
      ],
      "execution_count": 3,
      "outputs": []
    },
    {
      "cell_type": "code",
      "metadata": {
        "colab": {
          "base_uri": "https://localhost:8080/"
        },
        "id": "TNvwH3Cisuz3",
        "outputId": "a5c980c2-4ac9-4bd8-a4fb-bf867dc43735"
      },
      "source": [
        "from keras.applications.vgg16 import VGG16\n",
        "# load the model\n",
        "model = VGG16(weights='imagenet')"
      ],
      "execution_count": 4,
      "outputs": [
        {
          "output_type": "stream",
          "text": [
            "Downloading data from https://storage.googleapis.com/tensorflow/keras-applications/vgg16/vgg16_weights_tf_dim_ordering_tf_kernels.h5\n",
            "553467904/553467096 [==============================] - 4s 0us/step\n",
            "553476096/553467096 [==============================] - 4s 0us/step\n"
          ],
          "name": "stdout"
        }
      ]
    },
    {
      "cell_type": "code",
      "metadata": {
        "id": "nafNvuFtszDg"
      },
      "source": [
        "#Load a video from file\n",
        "video_input_file_path = ('/content/drive/My Drive/KBS/Object_detection/Everyday Objects In Macro.mp4')\n",
        "\n",
        "#ORIGINAL YOUTUBE VIDEO\n",
        "#https://youtu.be/K8rpo9e7tvg\n",
        "\n",
        "#Output file\n",
        "feature_output_file_path = ('/content/drive/My Drive/KBS/Object_detection/Frames/')"
      ],
      "execution_count": 5,
      "outputs": []
    },
    {
      "cell_type": "code",
      "metadata": {
        "id": "h8d6osCMs5Xa"
      },
      "source": [
        "video = cv2.VideoCapture(video_input_file_path)\n",
        "frameRate = video.get(5)"
      ],
      "execution_count": 6,
      "outputs": []
    },
    {
      "cell_type": "code",
      "metadata": {
        "colab": {
          "base_uri": "https://localhost:8080/"
        },
        "id": "nOD0s3x0s8C0",
        "outputId": "31cca260-591a-4eee-a706-a5940a950c7d"
      },
      "source": [
        "import math\n",
        "count = 0\n",
        "while(video.isOpened()):\n",
        "    frameNum = video.get(1)\n",
        "    ret, frame = video.read()\n",
        "    if (ret != True):\n",
        "        break\n",
        "    if (frameNum % math.floor(frameRate) == 0):\n",
        "        frameName = feature_output_file_path + \"frame%d.jpg\" % count;count+=1\n",
        "        cv2.imwrite(frameName, frame)\n",
        "video.release()\n",
        "print (\"Frame Capturing complete!\")"
      ],
      "execution_count": 7,
      "outputs": [
        {
          "output_type": "stream",
          "text": [
            "Frame Capturing complete!\n"
          ],
          "name": "stdout"
        }
      ]
    },
    {
      "cell_type": "code",
      "metadata": {
        "colab": {
          "base_uri": "https://localhost:8080/"
        },
        "id": "TOEZuLfds_wx",
        "outputId": "f83ea382-adb4-4e50-da00-17281a0bb1b5"
      },
      "source": [
        "#Checking if the capturing returned any files\n",
        "current_dir = os.getcwd()\n",
        "#Access the contents in the current directory\n",
        "contents = os.listdir(current_dir) \n",
        "print(\"Available contents in %r: %s\" % (current_dir, contents))"
      ],
      "execution_count": 8,
      "outputs": [
        {
          "output_type": "stream",
          "text": [
            "Available contents in '/content': ['.config', 'drive', 'sample_data']\n"
          ],
          "name": "stdout"
        }
      ]
    },
    {
      "cell_type": "code",
      "metadata": {
        "colab": {
          "base_uri": "https://localhost:8080/",
          "height": 257
        },
        "id": "3X9N5v7VxLPq",
        "outputId": "59289336-b505-4150-a333-49bee140db0c"
      },
      "source": [
        "sample = plt.imread('/content/drive/My Drive/KBS/Object_detection/Frames/frame19.jpg')\n",
        "plt.imshow(sample)"
      ],
      "execution_count": 9,
      "outputs": [
        {
          "output_type": "execute_result",
          "data": {
            "text/plain": [
              "<matplotlib.image.AxesImage at 0x7fcfdb18c410>"
            ]
          },
          "metadata": {
            "tags": []
          },
          "execution_count": 9
        },
        {
          "output_type": "display_data",
          "data": {
            "image/png": "[encoded data removed]",
            "text/plain": [
              "<Figure size 432x288 with 1 Axes>"
            ]
          },
          "metadata": {
            "tags": [],
            "needs_background": "light"
          }
        }
      ]
    },
    {
      "cell_type": "code",
      "metadata": {
        "id": "FLD0GMp0u3JC"
      },
      "source": [
        "frames = '/content/drive/My Drive/KBS/Object_detection/Frames/*.jpg'\n",
        "\n",
        "images = []\n",
        "import glob\n",
        "for filename in glob.glob(frames): \n",
        "  frame = image.load_img(filename, target_size=(224,224,224)) \n",
        "  images.append(frame)\n",
        "\n",
        "for frame in images:\n",
        "  frame_arr = image.img_to_array(frame)"
      ],
      "execution_count": 10,
      "outputs": []
    },
    {
      "cell_type": "code",
      "metadata": {
        "colab": {
          "base_uri": "https://localhost:8080/"
        },
        "id": "G-C3gupVv1rz",
        "outputId": "9361b9a3-a399-4f7b-db73-e07cebc4ed60"
      },
      "source": [
        "frame_arr.shape"
      ],
      "execution_count": 11,
      "outputs": [
        {
          "output_type": "execute_result",
          "data": {
            "text/plain": [
              "(224, 224, 3)"
            ]
          },
          "metadata": {
            "tags": []
          },
          "execution_count": 11
        }
      ]
    },
    {
      "cell_type": "code",
      "metadata": {
        "id": "1z1WL61zxB3c"
      },
      "source": [
        "frame_arr = np.expand_dims(frame_arr, axis = 0)"
      ],
      "execution_count": 12,
      "outputs": []
    },
    {
      "cell_type": "code",
      "metadata": {
        "id": "Vx1hzjhuxHKV"
      },
      "source": [
        "# prepare the image for the VGG model\n",
        "image = preprocess_input(frame_arr)"
      ],
      "execution_count": 13,
      "outputs": []
    },
    {
      "cell_type": "code",
      "metadata": {
        "id": "LFsVROL7xbO9"
      },
      "source": [
        "# predict the probability across all output classes\n",
        "yhat = model.predict(image)"
      ],
      "execution_count": 14,
      "outputs": []
    },
    {
      "cell_type": "code",
      "metadata": {
        "colab": {
          "base_uri": "https://localhost:8080/"
        },
        "id": "ooDUX8wexgL2",
        "outputId": "7ddd4045-d1c6-4df4-b18c-802ed0a27d01"
      },
      "source": [
        "# convert the probabilities to class labels\n",
        "from keras.applications.vgg16 import decode_predictions\n",
        "label = decode_predictions(yhat)"
      ],
      "execution_count": 15,
      "outputs": [
        {
          "output_type": "stream",
          "text": [
            "Downloading data from https://storage.googleapis.com/download.tensorflow.org/data/imagenet_class_index.json\n",
            "40960/35363 [==================================] - 0s 0us/step\n",
            "49152/35363 [=========================================] - 0s 0us/step\n"
          ],
          "name": "stdout"
        }
      ]
    },
    {
      "cell_type": "code",
      "metadata": {
        "id": "nykHR2EnxlWS"
      },
      "source": [
        "# retrieve the most likely result, e.g. highest probability\n",
        "label = label[0][0]"
      ],
      "execution_count": 16,
      "outputs": []
    },
    {
      "cell_type": "code",
      "metadata": {
        "colab": {
          "base_uri": "https://localhost:8080/"
        },
        "id": "J1DlmZFPxvb0",
        "outputId": "be377580-c9f1-4104-e56a-a7c6c4b71486"
      },
      "source": [
        "# print the classification\n",
        "print('%s (%.2f%%)' % (label[1], label[2]*100))"
      ],
      "execution_count": 17,
      "outputs": [
        {
          "output_type": "stream",
          "text": [
            "volcano (36.68%)\n"
          ],
          "name": "stdout"
        }
      ]
    },
    {
      "cell_type": "markdown",
      "metadata": {
        "id": "7FHPAELuDIfl"
      },
      "source": [
        "# Configuring streamlit"
      ]
    },
    {
      "cell_type": "code",
      "metadata": {
        "colab": {
          "base_uri": "https://localhost:8080/"
        },
        "id": "v3calbnFDGmE",
        "outputId": "c815ca19-c47a-4913-d7b7-84061431a2b6"
      },
      "source": [
        "!pip install -q streamlit"
      ],
      "execution_count": 18,
      "outputs": [
        {
          "output_type": "stream",
          "text": [
            "\u001b[K     |████████████████████████████████| 7.8MB 5.6MB/s \n",
            "\u001b[K     |████████████████████████████████| 112kB 46.1MB/s \n",
            "\u001b[K     |████████████████████████████████| 174kB 43.3MB/s \n",
            "\u001b[K     |████████████████████████████████| 4.2MB 36.3MB/s \n",
            "\u001b[K     |████████████████████████████████| 81kB 11.3MB/s \n",
            "\u001b[K     |████████████████████████████████| 71kB 9.3MB/s \n",
            "\u001b[K     |████████████████████████████████| 122kB 46.3MB/s \n",
            "\u001b[?25h  Building wheel for blinker (setup.py) ... \u001b[?25l\u001b[?25hdone\n",
            "\u001b[31mERROR: google-colab 1.0.0 has requirement ipykernel~=4.10, but you'll have ipykernel 5.5.5 which is incompatible.\u001b[0m\n"
          ],
          "name": "stdout"
        }
      ]
    },
    {
      "cell_type": "code",
      "metadata": {
        "colab": {
          "base_uri": "https://localhost:8080/"
        },
        "id": "AX9XMJ-9Ds6G",
        "outputId": "04e49311-67e1-43d5-8bf0-b1ad084111c1"
      },
      "source": [
        "!pip -q install pyngrok"
      ],
      "execution_count": 19,
      "outputs": [
        {
          "output_type": "stream",
          "text": [
            "\u001b[?25l\r\u001b[K     |▍                               | 10kB 18.8MB/s eta 0:00:01\r\u001b[K     |▉                               | 20kB 24.5MB/s eta 0:00:01\r\u001b[K     |█▎                              | 30kB 19.0MB/s eta 0:00:01\r\u001b[K     |█▊                              | 40kB 17.0MB/s eta 0:00:01\r\u001b[K     |██▏                             | 51kB 9.5MB/s eta 0:00:01\r\u001b[K     |██▋                             | 61kB 11.0MB/s eta 0:00:01\r\u001b[K     |███                             | 71kB 9.0MB/s eta 0:00:01\r\u001b[K     |███▌                            | 81kB 10.0MB/s eta 0:00:01\r\u001b[K     |████                            | 92kB 10.6MB/s eta 0:00:01\r\u001b[K     |████▍                           | 102kB 7.2MB/s eta 0:00:01\r\u001b[K     |████▉                           | 112kB 7.2MB/s eta 0:00:01\r\u001b[K     |█████▎                          | 122kB 7.2MB/s eta 0:00:01\r\u001b[K     |█████▊                          | 133kB 7.2MB/s eta 0:00:01\r\u001b[K     |██████▏                         | 143kB 7.2MB/s eta 0:00:01\r\u001b[K     |██████▋                         | 153kB 7.2MB/s eta 0:00:01\r\u001b[K     |███████                         | 163kB 7.2MB/s eta 0:00:01\r\u001b[K     |███████▌                        | 174kB 7.2MB/s eta 0:00:01\r\u001b[K     |████████                        | 184kB 7.2MB/s eta 0:00:01\r\u001b[K     |████████▍                       | 194kB 7.2MB/s eta 0:00:01\r\u001b[K     |████████▉                       | 204kB 7.2MB/s eta 0:00:01\r\u001b[K     |█████████▎                      | 215kB 7.2MB/s eta 0:00:01\r\u001b[K     |█████████▊                      | 225kB 7.2MB/s eta 0:00:01\r\u001b[K     |██████████▏                     | 235kB 7.2MB/s eta 0:00:01\r\u001b[K     |██████████▌                     | 245kB 7.2MB/s eta 0:00:01\r\u001b[K     |███████████                     | 256kB 7.2MB/s eta 0:00:01\r\u001b[K     |███████████▍                    | 266kB 7.2MB/s eta 0:00:01\r\u001b[K     |███████████▉                    | 276kB 7.2MB/s eta 0:00:01\r\u001b[K     |████████████▎                   | 286kB 7.2MB/s eta 0:00:01\r\u001b[K     |████████████▊                   | 296kB 7.2MB/s eta 0:00:01\r\u001b[K     |█████████████▏                  | 307kB 7.2MB/s eta 0:00:01\r\u001b[K     |█████████████▋                  | 317kB 7.2MB/s eta 0:00:01\r\u001b[K     |██████████████                  | 327kB 7.2MB/s eta 0:00:01\r\u001b[K     |██████████████▌                 | 337kB 7.2MB/s eta 0:00:01\r\u001b[K     |███████████████                 | 348kB 7.2MB/s eta 0:00:01\r\u001b[K     |███████████████▍                | 358kB 7.2MB/s eta 0:00:01\r\u001b[K     |███████████████▉                | 368kB 7.2MB/s eta 0:00:01\r\u001b[K     |████████████████▎               | 378kB 7.2MB/s eta 0:00:01\r\u001b[K     |████████████████▊               | 389kB 7.2MB/s eta 0:00:01\r\u001b[K     |█████████████████▏              | 399kB 7.2MB/s eta 0:00:01\r\u001b[K     |█████████████████▋              | 409kB 7.2MB/s eta 0:00:01\r\u001b[K     |██████████████████              | 419kB 7.2MB/s eta 0:00:01\r\u001b[K     |██████████████████▌             | 430kB 7.2MB/s eta 0:00:01\r\u001b[K     |███████████████████             | 440kB 7.2MB/s eta 0:00:01\r\u001b[K     |███████████████████▍            | 450kB 7.2MB/s eta 0:00:01\r\u001b[K     |███████████████████▉            | 460kB 7.2MB/s eta 0:00:01\r\u001b[K     |████████████████████▎           | 471kB 7.2MB/s eta 0:00:01\r\u001b[K     |████████████████████▊           | 481kB 7.2MB/s eta 0:00:01\r\u001b[K     |█████████████████████           | 491kB 7.2MB/s eta 0:00:01\r\u001b[K     |█████████████████████▌          | 501kB 7.2MB/s eta 0:00:01\r\u001b[K     |██████████████████████          | 512kB 7.2MB/s eta 0:00:01\r\u001b[K     |██████████████████████▍         | 522kB 7.2MB/s eta 0:00:01\r\u001b[K     |██████████████████████▉         | 532kB 7.2MB/s eta 0:00:01\r\u001b[K     |███████████████████████▎        | 542kB 7.2MB/s eta 0:00:01\r\u001b[K     |███████████████████████▊        | 552kB 7.2MB/s eta 0:00:01\r\u001b[K     |████████████████████████▏       | 563kB 7.2MB/s eta 0:00:01\r\u001b[K     |████████████████████████▋       | 573kB 7.2MB/s eta 0:00:01\r\u001b[K     |█████████████████████████       | 583kB 7.2MB/s eta 0:00:01\r\u001b[K     |█████████████████████████▌      | 593kB 7.2MB/s eta 0:00:01\r\u001b[K     |██████████████████████████      | 604kB 7.2MB/s eta 0:00:01\r\u001b[K     |██████████████████████████▍     | 614kB 7.2MB/s eta 0:00:01\r\u001b[K     |██████████████████████████▉     | 624kB 7.2MB/s eta 0:00:01\r\u001b[K     |███████████████████████████▎    | 634kB 7.2MB/s eta 0:00:01\r\u001b[K     |███████████████████████████▊    | 645kB 7.2MB/s eta 0:00:01\r\u001b[K     |████████████████████████████▏   | 655kB 7.2MB/s eta 0:00:01\r\u001b[K     |████████████████████████████▋   | 665kB 7.2MB/s eta 0:00:01\r\u001b[K     |█████████████████████████████   | 675kB 7.2MB/s eta 0:00:01\r\u001b[K     |█████████████████████████████▌  | 686kB 7.2MB/s eta 0:00:01\r\u001b[K     |██████████████████████████████  | 696kB 7.2MB/s eta 0:00:01\r\u001b[K     |██████████████████████████████▍ | 706kB 7.2MB/s eta 0:00:01\r\u001b[K     |██████████████████████████████▉ | 716kB 7.2MB/s eta 0:00:01\r\u001b[K     |███████████████████████████████▏| 727kB 7.2MB/s eta 0:00:01\r\u001b[K     |███████████████████████████████▋| 737kB 7.2MB/s eta 0:00:01\r\u001b[K     |████████████████████████████████| 747kB 7.2MB/s \n",
            "\u001b[?25h  Building wheel for pyngrok (setup.py) ... \u001b[?25l\u001b[?25hdone\n"
          ],
          "name": "stdout"
        }
      ]
    },
    {
      "cell_type": "code",
      "metadata": {
        "id": "yz3eTtvsVRxt"
      },
      "source": [
        "from pyngrok import ngrok"
      ],
      "execution_count": 20,
      "outputs": []
    },
    {
      "cell_type": "code",
      "metadata": {
        "colab": {
          "base_uri": "https://localhost:8080/"
        },
        "id": "l-Y-LDGSFtQT",
        "outputId": "64158566-15cc-4ee7-a09a-ecd52695ec7e"
      },
      "source": [
        "!ngrok authtoken 1npJviy2rm2H1RzUbevBUv2GLGw_ep9y73PeZMfA5zeSBzzs"
      ],
      "execution_count": 27,
      "outputs": [
        {
          "output_type": "stream",
          "text": [
            "Authtoken saved to configuration file: /root/.ngrok2/ngrok.yml\n"
          ],
          "name": "stdout"
        }
      ]
    },
    {
      "cell_type": "code",
      "metadata": {
        "colab": {
          "base_uri": "https://localhost:8080/"
        },
        "id": "51WdhUE9vkmI",
        "outputId": "613f662c-4f87-4be4-ac0a-a16d2e7c202a"
      },
      "source": [
        "%%writefile app.py\n",
        "import streamlit as st\n",
        "import tempfile\n",
        "import cv2    \n",
        "import math  \n",
        "import pandas as pd\n",
        "from keras.preprocessing.image import load_img\n",
        "from keras.preprocessing.image import img_to_array\n",
        "from keras.applications.vgg16 import preprocess_input\n",
        "from keras.applications.vgg16 import decode_predictions\n",
        "from keras.applications.vgg16 import VGG16\n",
        "from PIL import Image\n",
        "\n",
        "PAGE_CONFIG = {\"page_title\":\"StColab.io\", \"page_icon\":\":smiley:\",\"layout\":\"centered\"}\n",
        "st.set_page_config(\"PAGE_CONFIG\")\n",
        "\n",
        "st.title(\"VGG16 Object Detection\")\n",
        "st.sidebar.title(\"Dashboard\")\n",
        "def uploadFile():\n",
        "  vid_file = st.file_uploader(\"Upload a video\", type=[\"mp4\", \"mov\",\"avi\"])\n",
        "  tempVideo = tempfile.NamedTemporaryFile(delete=False) \n",
        "  if vid_file is not None: \n",
        "    tempVideo.write(vid_file.read())\n",
        "  return tempVideo.name\n",
        "        \n",
        "def splitVideo(videoPath):\n",
        "  count = 0\n",
        "  cap = cv2.VideoCapture(videoPath)\n",
        "  frameRate = cap.get(5) \n",
        "  tempImage = tempfile.NamedTemporaryFile(delete=False) \n",
        "  x=1\n",
        "\n",
        "  while(cap.isOpened()):\n",
        "    frameId = cap.get(1) \n",
        "    ret, frame = cap.read()\n",
        "    if (ret != True):\n",
        "      break\n",
        "    if (frameId % math.floor(frameRate) == 0):\n",
        "      tempImage = videoPath.split('.')[0] +\"_frame%d.jpg\" % count;count+=1\n",
        "      cv2.imwrite(tempImage, frame)\n",
        "      frames.append(tempImage)\n",
        "  cap.release() \n",
        "  return frames,count\n",
        "\n",
        "def classifyObjects():  \n",
        "  model = VGG16()\n",
        "  classify = []\n",
        "  frames,count = splitVideo(videoFile)\n",
        "\n",
        "  for i in range(count):    \n",
        "    image = load_img(frames[i], target_size=(224, 224)) \n",
        "    image = img_to_array(image)\n",
        "    image = image.reshape((1, image.shape[0], image.shape[1], image.shape[2]))\n",
        "    image = preprocess_input(image)   \n",
        "    img_pred = model.predict(image)\n",
        "    label = decode_predictions(img_pred)    \n",
        "    label = label[0][0]\n",
        "    result =  label[1]\n",
        "    classify.append(result)\n",
        "  return classify\n",
        "\n",
        "def searchInFrames(object_):\n",
        "  indeces = []\n",
        "  classifications = classifyObjects()\n",
        "  if object_ in classifications:\n",
        "    for i in range(len(classifications)):\n",
        "      if classifications[i] == object_:\n",
        "        index = classifications.index(object_)\n",
        "        indeces.append(index)\n",
        "        filePath = frames[index]\n",
        "        img = load_img(filePath, target_size = (224, 224))\n",
        "        detected_paths.append(filePath)\n",
        "    for i in range(len(indeces)):\n",
        "      st.image(frames[i], width=224)\n",
        "  else:\n",
        "    st.write(\"Object not available in video!\")\n",
        "\n",
        "videoFile = uploadFile()\n",
        "user_input = st.text_input(\"Enter object to search: \")\n",
        "\n",
        "if st.button('Search'):  \n",
        "  frames =[]\n",
        "  detected_paths = []\n",
        "  searchInFrames(user_input)\n",
        "  st.write(\"\")"
      ],
      "execution_count": 28,
      "outputs": [
        {
          "output_type": "stream",
          "text": [
            "Overwriting app.py\n"
          ],
          "name": "stdout"
        }
      ]
    },
    {
      "cell_type": "code",
      "metadata": {
        "id": "jUPfE8jAslWn"
      },
      "source": [
        "!streamlit run --server.port 80 app.py &>/dev/null&"
      ],
      "execution_count": 29,
      "outputs": []
    },
    {
      "cell_type": "code",
      "metadata": {
        "id": "MV7hAkbiapXs"
      },
      "source": [
        "address = ngrok.connect(port=8501)"
      ],
      "execution_count": 30,
      "outputs": []
    },
    {
      "cell_type": "code",
      "metadata": {
        "colab": {
          "base_uri": "https://localhost:8080/"
        },
        "id": "tqX1FG3Narmu",
        "outputId": "a9ae8d91-f493-4daf-cf7a-e33388097792"
      },
      "source": [
        "print(address)"
      ],
      "execution_count": 31,
      "outputs": [
        {
          "output_type": "stream",
          "text": [
            "NgrokTunnel: \"http://4e3b27b8368d.ngrok.io\" -> \"http://localhost:80\"\n"
          ],
          "name": "stdout"
        }
      ]
    },
    {
      "cell_type": "markdown",
      "metadata": {
        "id": "ntOqV68mhKe1"
      },
      "source": [
        "**If more processes run, kill tunnels**"
      ]
    },
    {
      "cell_type": "code",
      "metadata": {
        "id": "_9gb_EA-aKpu"
      },
      "source": [
        "ngrok.kill()"
      ],
      "execution_count": 26,
      "outputs": []
    },
    {
      "cell_type": "code",
      "metadata": {
        "id": "_QeOIWT9aciW"
      },
      "source": [],
      "execution_count": null,
      "outputs": []
    }
  ]
}