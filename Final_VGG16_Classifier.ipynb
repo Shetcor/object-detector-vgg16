{
  "nbformat": 4,
  "nbformat_minor": 0,
  "metadata": {
    "colab": {
      "name": "Final VGG16 Classifier.ipynb",
      "provenance": [],
      "collapsed_sections": []
    },
    "kernelspec": {
      "name": "python3",
      "display_name": "Python 3"
    },
    "language_info": {
      "name": "python"
    }
  },
  "cells": [
    {
      "cell_type": "markdown",
      "metadata": {
        "id": "33fyuQ9eTfHB"
      },
      "source": [
        "# **R181600B - SHEUNESU C. TAZVIVINGA**\n",
        "# **R181558W - TAFADZWA N. YEMEKE**"
      ]
    },
    {
      "cell_type": "code",
      "metadata": {
        "colab": {
          "base_uri": "https://localhost:8080/"
        },
        "id": "HW58jG1auoyD",
        "outputId": "f734d3a4-c505-43c8-e35e-80a7ba3b8448"
      },
      "source": [
        "!pip install -q streamlit"
      ],
      "execution_count": 1,
      "outputs": [
        {
          "output_type": "stream",
          "text": [
            "\u001b[K     |████████████████████████████████| 7.8MB 4.5MB/s \n",
            "\u001b[K     |████████████████████████████████| 4.2MB 41.4MB/s \n",
            "\u001b[K     |████████████████████████████████| 174kB 42.8MB/s \n",
            "\u001b[K     |████████████████████████████████| 81kB 7.5MB/s \n",
            "\u001b[K     |████████████████████████████████| 112kB 36.6MB/s \n",
            "\u001b[K     |████████████████████████████████| 122kB 40.6MB/s \n",
            "\u001b[K     |████████████████████████████████| 71kB 8.1MB/s \n",
            "\u001b[?25h  Building wheel for blinker (setup.py) ... \u001b[?25l\u001b[?25hdone\n",
            "\u001b[31mERROR: google-colab 1.0.0 has requirement ipykernel~=4.10, but you'll have ipykernel 5.5.5 which is incompatible.\u001b[0m\n"
          ],
          "name": "stdout"
        }
      ]
    },
    {
      "cell_type": "code",
      "metadata": {
        "colab": {
          "base_uri": "https://localhost:8080/"
        },
        "id": "4J5gHSPMupn4",
        "outputId": "bae1c215-7198-4706-f757-62e24c34c950"
      },
      "source": [
        "!pip -q install pyngrok"
      ],
      "execution_count": 2,
      "outputs": [
        {
          "output_type": "stream",
          "text": [
            "\u001b[?25l\r\u001b[K     |▍                               | 10kB 17.0MB/s eta 0:00:01\r\u001b[K     |▉                               | 20kB 13.2MB/s eta 0:00:01\r\u001b[K     |█▎                              | 30kB 8.5MB/s eta 0:00:01\r\u001b[K     |█▊                              | 40kB 7.3MB/s eta 0:00:01\r\u001b[K     |██▏                             | 51kB 5.5MB/s eta 0:00:01\r\u001b[K     |██▋                             | 61kB 5.5MB/s eta 0:00:01\r\u001b[K     |███                             | 71kB 6.0MB/s eta 0:00:01\r\u001b[K     |███▌                            | 81kB 6.3MB/s eta 0:00:01\r\u001b[K     |████                            | 92kB 5.7MB/s eta 0:00:01\r\u001b[K     |████▍                           | 102kB 5.2MB/s eta 0:00:01\r\u001b[K     |████▉                           | 112kB 5.2MB/s eta 0:00:01\r\u001b[K     |█████▎                          | 122kB 5.2MB/s eta 0:00:01\r\u001b[K     |█████▊                          | 133kB 5.2MB/s eta 0:00:01\r\u001b[K     |██████▏                         | 143kB 5.2MB/s eta 0:00:01\r\u001b[K     |██████▋                         | 153kB 5.2MB/s eta 0:00:01\r\u001b[K     |███████                         | 163kB 5.2MB/s eta 0:00:01\r\u001b[K     |███████▌                        | 174kB 5.2MB/s eta 0:00:01\r\u001b[K     |████████                        | 184kB 5.2MB/s eta 0:00:01\r\u001b[K     |████████▍                       | 194kB 5.2MB/s eta 0:00:01\r\u001b[K     |████████▉                       | 204kB 5.2MB/s eta 0:00:01\r\u001b[K     |█████████▎                      | 215kB 5.2MB/s eta 0:00:01\r\u001b[K     |█████████▊                      | 225kB 5.2MB/s eta 0:00:01\r\u001b[K     |██████████▏                     | 235kB 5.2MB/s eta 0:00:01\r\u001b[K     |██████████▌                     | 245kB 5.2MB/s eta 0:00:01\r\u001b[K     |███████████                     | 256kB 5.2MB/s eta 0:00:01\r\u001b[K     |███████████▍                    | 266kB 5.2MB/s eta 0:00:01\r\u001b[K     |███████████▉                    | 276kB 5.2MB/s eta 0:00:01\r\u001b[K     |████████████▎                   | 286kB 5.2MB/s eta 0:00:01\r\u001b[K     |████████████▊                   | 296kB 5.2MB/s eta 0:00:01\r\u001b[K     |█████████████▏                  | 307kB 5.2MB/s eta 0:00:01\r\u001b[K     |█████████████▋                  | 317kB 5.2MB/s eta 0:00:01\r\u001b[K     |██████████████                  | 327kB 5.2MB/s eta 0:00:01\r\u001b[K     |██████████████▌                 | 337kB 5.2MB/s eta 0:00:01\r\u001b[K     |███████████████                 | 348kB 5.2MB/s eta 0:00:01\r\u001b[K     |███████████████▍                | 358kB 5.2MB/s eta 0:00:01\r\u001b[K     |███████████████▉                | 368kB 5.2MB/s eta 0:00:01\r\u001b[K     |████████████████▎               | 378kB 5.2MB/s eta 0:00:01\r\u001b[K     |████████████████▊               | 389kB 5.2MB/s eta 0:00:01\r\u001b[K     |█████████████████▏              | 399kB 5.2MB/s eta 0:00:01\r\u001b[K     |█████████████████▋              | 409kB 5.2MB/s eta 0:00:01\r\u001b[K     |██████████████████              | 419kB 5.2MB/s eta 0:00:01\r\u001b[K     |██████████████████▌             | 430kB 5.2MB/s eta 0:00:01\r\u001b[K     |███████████████████             | 440kB 5.2MB/s eta 0:00:01\r\u001b[K     |███████████████████▍            | 450kB 5.2MB/s eta 0:00:01\r\u001b[K     |███████████████████▉            | 460kB 5.2MB/s eta 0:00:01\r\u001b[K     |████████████████████▎           | 471kB 5.2MB/s eta 0:00:01\r\u001b[K     |████████████████████▊           | 481kB 5.2MB/s eta 0:00:01\r\u001b[K     |█████████████████████           | 491kB 5.2MB/s eta 0:00:01\r\u001b[K     |█████████████████████▌          | 501kB 5.2MB/s eta 0:00:01\r\u001b[K     |██████████████████████          | 512kB 5.2MB/s eta 0:00:01\r\u001b[K     |██████████████████████▍         | 522kB 5.2MB/s eta 0:00:01\r\u001b[K     |██████████████████████▉         | 532kB 5.2MB/s eta 0:00:01\r\u001b[K     |███████████████████████▎        | 542kB 5.2MB/s eta 0:00:01\r\u001b[K     |███████████████████████▊        | 552kB 5.2MB/s eta 0:00:01\r\u001b[K     |████████████████████████▏       | 563kB 5.2MB/s eta 0:00:01\r\u001b[K     |████████████████████████▋       | 573kB 5.2MB/s eta 0:00:01\r\u001b[K     |█████████████████████████       | 583kB 5.2MB/s eta 0:00:01\r\u001b[K     |█████████████████████████▌      | 593kB 5.2MB/s eta 0:00:01\r\u001b[K     |██████████████████████████      | 604kB 5.2MB/s eta 0:00:01\r\u001b[K     |██████████████████████████▍     | 614kB 5.2MB/s eta 0:00:01\r\u001b[K     |██████████████████████████▉     | 624kB 5.2MB/s eta 0:00:01\r\u001b[K     |███████████████████████████▎    | 634kB 5.2MB/s eta 0:00:01\r\u001b[K     |███████████████████████████▊    | 645kB 5.2MB/s eta 0:00:01\r\u001b[K     |████████████████████████████▏   | 655kB 5.2MB/s eta 0:00:01\r\u001b[K     |████████████████████████████▋   | 665kB 5.2MB/s eta 0:00:01\r\u001b[K     |█████████████████████████████   | 675kB 5.2MB/s eta 0:00:01\r\u001b[K     |█████████████████████████████▌  | 686kB 5.2MB/s eta 0:00:01\r\u001b[K     |██████████████████████████████  | 696kB 5.2MB/s eta 0:00:01\r\u001b[K     |██████████████████████████████▍ | 706kB 5.2MB/s eta 0:00:01\r\u001b[K     |██████████████████████████████▉ | 716kB 5.2MB/s eta 0:00:01\r\u001b[K     |███████████████████████████████▏| 727kB 5.2MB/s eta 0:00:01\r\u001b[K     |███████████████████████████████▋| 737kB 5.2MB/s eta 0:00:01\r\u001b[K     |████████████████████████████████| 747kB 5.2MB/s \n",
            "\u001b[?25h  Building wheel for pyngrok (setup.py) ... \u001b[?25l\u001b[?25hdone\n"
          ],
          "name": "stdout"
        }
      ]
    },
    {
      "cell_type": "code",
      "metadata": {
        "id": "a5Pb7vjguzQL"
      },
      "source": [
        "from pyngrok import ngrok"
      ],
      "execution_count": 3,
      "outputs": []
    },
    {
      "cell_type": "code",
      "metadata": {
        "colab": {
          "base_uri": "https://localhost:8080/"
        },
        "id": "IxQZkI4Su4Hu",
        "outputId": "39b5bd90-b605-4051-ff2e-cdd5ed26315f"
      },
      "source": [
        "!ngrok authtoken 1npJviy2rm2H1RzUbevBUv2GLGw_ep9y73PeZMfA5zeSBzzs"
      ],
      "execution_count": 4,
      "outputs": [
        {
          "output_type": "stream",
          "text": [
            "Authtoken saved to configuration file: /root/.ngrok2/ngrok.yml\n"
          ],
          "name": "stdout"
        }
      ]
    },
    {
      "cell_type": "code",
      "metadata": {
        "colab": {
          "base_uri": "https://localhost:8080/"
        },
        "id": "CUn30zvMwTEM",
        "outputId": "309e6f5a-b153-455f-c800-2f556048e34d"
      },
      "source": [
        "from google.colab import drive \n",
        "drive.mount('/content/drive')"
      ],
      "execution_count": 6,
      "outputs": [
        {
          "output_type": "stream",
          "text": [
            "Drive already mounted at /content/drive; to attempt to forcibly remount, call drive.mount(\"/content/drive\", force_remount=True).\n"
          ],
          "name": "stdout"
        }
      ]
    },
    {
      "cell_type": "code",
      "metadata": {
        "id": "ilhproTi3QSp"
      },
      "source": [
        "%matplotlib inline"
      ],
      "execution_count": 7,
      "outputs": []
    },
    {
      "cell_type": "code",
      "metadata": {
        "colab": {
          "base_uri": "https://localhost:8080/"
        },
        "id": "DksLvX_Ru6V2",
        "outputId": "4c706119-19fc-4964-81a4-2fd9abad5e59"
      },
      "source": [
        "%%writefile vgg16.py\n",
        "import streamlit as st\n",
        "import cv2\n",
        "import os\n",
        "import sys \n",
        "import numpy as np\n",
        "import tempfile\n",
        "import math\n",
        "from PIL import Image\n",
        "import matplotlib.pyplot as plt\n",
        "from keras.preprocessing import image\n",
        "from skimage.transform import resize\n",
        "import tensorflow as tf\n",
        "from keras.layers import Dense, Activation, Dropout, Bidirectional\n",
        "from keras.layers.recurrent import LSTM\n",
        "from keras.models import Sequential\n",
        "from keras.optimizers import SGD\n",
        "from keras import backend as K\n",
        "from keras.utils import np_utils\n",
        "from sklearn.model_selection import train_test_split\n",
        "from keras.callbacks import ModelCheckpoint\n",
        "from keras.layers import Conv2D, Activation, MaxPooling2D, Dropout, Flatten, Dense,InputLayer\n",
        "from keras.utils.vis_utils import plot_model\n",
        "from keras.preprocessing.image import img_to_array\n",
        "from keras.preprocessing.image import load_img\n",
        "from keras.applications.vgg16 import VGG16\n",
        "from keras.applications.vgg16 import preprocess_input\n",
        "from keras.applications.vgg16 import decode_predictions\n",
        "# Load the model\n",
        "model = VGG16(weights='imagenet')\n",
        "\n",
        "\n",
        "PAGE_CONFIG = {\"page_title\":\"StColab.io\", \"page_icon\":\":smiley:\",\"layout\":\"centered\"}\n",
        "st.set_page_config(\"PAGE_CONFIG\")\n",
        "\n",
        "st.title(\"VGG16 Object Detection from video\")\n",
        "st.text(\"Click HOME to view the detected objects on the playing video\")\n",
        "\n",
        "# Play video whilist the predictions are loading\n",
        "video_file = open('/content/drive/My Drive/KBS/Object_detection/Trackhawk.mp4', 'rb')\n",
        "video_bytes = video_file.read()\n",
        "st.video(video_bytes)\n",
        "\n",
        "page = st.sidebar.selectbox(\"Choose action\", [\"Classify\", \"Upload\"]) \n",
        "def main():\n",
        "  st.sidebar.title(\"Dashboard\")\n",
        "  #Home = st.sidebar.button('Detect objects', key='home')\n",
        "  #Upload = st.sidebar.button('Upload video',key='upload')\n",
        "\n",
        "  if page == \"Classify\":\n",
        "    #Load a video from file\n",
        "    video_input_file_path = ('/content/drive/My Drive/KBS/Object_detection/Trackhawk.mp4')\n",
        "\n",
        "    #ORIGINAL YOUTUBE VIDEO\n",
        "    #https://youtu.be/K8rpo9e7tvg\n",
        "\n",
        "    #Output file\n",
        "    feature_output_file_path = ('/content/drive/My Drive/KBS/Object_detection/Frames/')\n",
        "\n",
        "    # Capturing the video from path\n",
        "    video = cv2.VideoCapture(video_input_file_path)\n",
        "    frameRate = video.get(5)\n",
        "\n",
        "    #Creating frames from the given video\n",
        "    import math\n",
        "    count = 0\n",
        "    while(video.isOpened()):\n",
        "        frameNum = video.get(1)\n",
        "        ret, frame = video.read()\n",
        "        if (ret != True):\n",
        "            break\n",
        "        if (frameNum % math.floor(frameRate) == 0):\n",
        "            frameName = feature_output_file_path + \"frame%d.jpg\" % count;count+=1\n",
        "            cv2.imwrite(frameName, frame)\n",
        "    video.release()\n",
        "    st.text(\"Frame Capturing complete!\")\n",
        "\n",
        "    frames = '/content/drive/My Drive/KBS/Object_detection/Frames/*.jpg'\n",
        "\n",
        "    # Converting the images to arrays\n",
        "    images = []\n",
        "    import glob\n",
        "    for filename in glob.glob(frames): \n",
        "      frame = image.load_img(filename, target_size=(224,224,224)) \n",
        "      images.append(frame)\n",
        "\n",
        "    \n",
        "    for frame in images:\n",
        "      frame_arr = image.img_to_array(frame)\n",
        "    \n",
        "    #frame_arr.shape\n",
        "    frame_arr = np.expand_dims(frame_arr, axis = 0)\n",
        "\n",
        "    # prepare the image for the VGG model\n",
        "    img = preprocess_input(frame_arr)\n",
        "\n",
        "    # predict the probability across all output classes\n",
        "    yhat = model.predict(img)\n",
        "\n",
        "    # convert the probabilities to class labels\n",
        "    from keras.applications.vgg16 import decode_predictions\n",
        "    label = decode_predictions(yhat)\n",
        "\n",
        "    # retrieve the most likely result, e.g. highest probability\n",
        "    label = label[0][0]\n",
        "\n",
        "\n",
        "    # print the classification\n",
        "    with st.beta_container():\n",
        "      col1, col2 = st.beta_columns([5,5])\n",
        "      with col1:\n",
        "        st.text(\"Object with highest classfication\")\n",
        "        st.write('%s (%.2f%%)' % (label[1], label[2]*100))\n",
        "      with col2:\n",
        "        st.image(yhat)\n",
        "\n",
        "  ########################################################\n",
        "  if page == \"Upload\":\n",
        "    # If the user decides to upload own video\n",
        "    st.text(\"Upload to search for objects in the video\")\n",
        "    def uploadFile():\n",
        "      vid_file = st.file_uploader(\"Upload a video\", type=[\"mp4\", \"mov\",\"avi\"])\n",
        "      tempVideo = tempfile.NamedTemporaryFile(delete=False) \n",
        "      if vid_file is not None: \n",
        "        tempVideo.write(vid_file.read())\n",
        "      return tempVideo.name\n",
        "    # Capturing video frames \n",
        "    def splitVideo(videoPath):\n",
        "      import math\n",
        "      count = 0\n",
        "      cap = cv2.VideoCapture(videoPath)\n",
        "      frameRate = cap.get(5) \n",
        "      tempImage = tempfile.NamedTemporaryFile(delete=False) \n",
        "      x=1\n",
        "      # Splitting video frames into photos\n",
        "      while(cap.isOpened()):\n",
        "        frameId = cap.get(1) \n",
        "        ret, frame = cap.read()\n",
        "        if (ret != True):\n",
        "          break\n",
        "        if (frameId % math.floor(frameRate) == 0):\n",
        "          tempImage = videoPath.split('.')[0] +\"_frame%d.jpg\" % count;count+=1\n",
        "          cv2.imwrite(tempImage, frame)\n",
        "          frames.append(tempImage)\n",
        "      cap.release() \n",
        "      return frames,count\n",
        "    # Classifying the objects\n",
        "    def classifyObjects():  \n",
        "      model = VGG16()\n",
        "      from keras.applications.vgg16 import decode_predictions\n",
        "      classify = []\n",
        "      frames,count = splitVideo(videoFile)\n",
        "\n",
        "      for i in range(count):    \n",
        "        image = load_img(frames[i], target_size=(224, 224)) \n",
        "        image = img_to_array(image)\n",
        "        image = image.reshape((1, image.shape[0], image.shape[1], image.shape[2]))\n",
        "        # prepare the image for the VGG model\n",
        "        image = preprocess_input(image)\n",
        "        # predict the probability across all output classes   \n",
        "        img_pred = model.predict(image)\n",
        "        # convert the probabilities to class labels\n",
        "        label = decode_predictions(img_pred)    \n",
        "        label = label[0][0]\n",
        "        result =  label[1]\n",
        "        classify.append(result)\n",
        "      return classify\n",
        "\n",
        "    def searchInFrames(object_):\n",
        "      indeces = []\n",
        "      classifications = classifyObjects()\n",
        "      if object_ in classifications:\n",
        "        for i in range(len(classifications)):\n",
        "          if classifications[i] == object_:\n",
        "            index = classifications.index(object_)\n",
        "            indeces.append(index)\n",
        "            filePath = frames[index]\n",
        "            img = load_img(filePath, target_size = (224, 224))\n",
        "            detected_paths.append(filePath)\n",
        "        for i in range(len(indeces)):\n",
        "          st.image(frames[i], width=224)\n",
        "      else:\n",
        "        st.write(\"Object not available in video!\")\n",
        "\n",
        "    videoFile = uploadFile()\n",
        "    user_input = st.text_input(\"Enter object to search: \")\n",
        "\n",
        "    if st.button('Search'):  \n",
        "      frames =[]\n",
        "      detected_paths = []\n",
        "      searchInFrames(user_input)\n",
        "      st.write(\"\")\n",
        "\n",
        "\n",
        "if __name__ == '__main__':\n",
        "  main()"
      ],
      "execution_count": 46,
      "outputs": [
        {
          "output_type": "stream",
          "text": [
            "Overwriting vgg16.py\n"
          ],
          "name": "stdout"
        }
      ]
    },
    {
      "cell_type": "code",
      "metadata": {
        "id": "MLVP_QQX0m4u"
      },
      "source": [
        "!streamlit run --server.port 80 vgg16.py&>/dev/null&"
      ],
      "execution_count": 47,
      "outputs": []
    },
    {
      "cell_type": "code",
      "metadata": {
        "id": "2_-SD27j04fO"
      },
      "source": [
        "address = ngrok.connect(port=8501)"
      ],
      "execution_count": 48,
      "outputs": []
    },
    {
      "cell_type": "code",
      "metadata": {
        "colab": {
          "base_uri": "https://localhost:8080/"
        },
        "id": "pRhzv7U-0_ps",
        "outputId": "6fbe9cce-3a5a-4360-ed47-9ed72eb30b1b"
      },
      "source": [
        "address"
      ],
      "execution_count": 49,
      "outputs": [
        {
          "output_type": "execute_result",
          "data": {
            "text/plain": [
              "<NgrokTunnel: \"http://bb1eaed6858b.ngrok.io\" -> \"http://localhost:80\">"
            ]
          },
          "metadata": {
            "tags": []
          },
          "execution_count": 49
        }
      ]
    },
    {
      "cell_type": "markdown",
      "metadata": {
        "id": "8VFQwKfuVsCb"
      },
      "source": [
        "**Run the code below when more than 2 tunnels are running**"
      ]
    },
    {
      "cell_type": "code",
      "metadata": {
        "id": "nofnwd7W1BZV"
      },
      "source": [
        "ngrok.kill()"
      ],
      "execution_count": 45,
      "outputs": []
    }
  ]
}